{
 "cells": [
  {
   "cell_type": "markdown",
   "id": "c2dcc462",
   "metadata": {},
   "source": [
    "# PYTHON EXERCISE"
   ]
  },
  {
   "cell_type": "code",
   "execution_count": 1,
   "id": "91f20e48",
   "metadata": {},
   "outputs": [],
   "source": [
    "import pandas as pd\n",
    "import numpy as np\n",
    "import matplotlib.pyplot as plt\n",
    "import seaborn as sns\n",
    "import scipy.stats as stats "
   ]
  },
  {
   "cell_type": "code",
   "execution_count": 2,
   "id": "e0972ea6",
   "metadata": {},
   "outputs": [],
   "source": [
    "# reading data set\n",
    "df = pd.read_csv('MD_agric_exam-4313.csv')"
   ]
  },
  {
   "cell_type": "code",
   "execution_count": 3,
   "id": "cbd2c10d",
   "metadata": {},
   "outputs": [
    {
     "data": {
      "text/html": [
       "<div>\n",
       "<style scoped>\n",
       "    .dataframe tbody tr th:only-of-type {\n",
       "        vertical-align: middle;\n",
       "    }\n",
       "\n",
       "    .dataframe tbody tr th {\n",
       "        vertical-align: top;\n",
       "    }\n",
       "\n",
       "    .dataframe thead th {\n",
       "        text-align: right;\n",
       "    }\n",
       "</style>\n",
       "<table border=\"1\" class=\"dataframe\">\n",
       "  <thead>\n",
       "    <tr style=\"text-align: right;\">\n",
       "      <th></th>\n",
       "      <th>Field_ID</th>\n",
       "      <th>Elevation</th>\n",
       "      <th>Rainfall</th>\n",
       "      <th>Min_temperature_C</th>\n",
       "      <th>Max_temperature_C</th>\n",
       "      <th>pH</th>\n",
       "      <th>Pollution_level</th>\n",
       "      <th>Plot_size</th>\n",
       "      <th>Annual_yield</th>\n",
       "    </tr>\n",
       "  </thead>\n",
       "  <tbody>\n",
       "    <tr>\n",
       "      <th>count</th>\n",
       "      <td>1000.000000</td>\n",
       "      <td>1000.000000</td>\n",
       "      <td>1000.000000</td>\n",
       "      <td>1000.000000</td>\n",
       "      <td>1000.00000</td>\n",
       "      <td>1000.000000</td>\n",
       "      <td>1.000000e+03</td>\n",
       "      <td>1000.000000</td>\n",
       "      <td>1000.000000</td>\n",
       "    </tr>\n",
       "    <tr>\n",
       "      <th>mean</th>\n",
       "      <td>2779.486000</td>\n",
       "      <td>628.136035</td>\n",
       "      <td>1197.734700</td>\n",
       "      <td>-4.504100</td>\n",
       "      <td>30.89460</td>\n",
       "      <td>5.603899</td>\n",
       "      <td>2.233740e-01</td>\n",
       "      <td>3.962400</td>\n",
       "      <td>2.101536</td>\n",
       "    </tr>\n",
       "    <tr>\n",
       "      <th>std</th>\n",
       "      <td>1595.068372</td>\n",
       "      <td>179.098546</td>\n",
       "      <td>497.794699</td>\n",
       "      <td>1.568117</td>\n",
       "      <td>1.92225</td>\n",
       "      <td>0.802154</td>\n",
       "      <td>2.288665e-01</td>\n",
       "      <td>3.459036</td>\n",
       "      <td>1.926694</td>\n",
       "    </tr>\n",
       "    <tr>\n",
       "      <th>min</th>\n",
       "      <td>1.000000</td>\n",
       "      <td>35.910797</td>\n",
       "      <td>110.100000</td>\n",
       "      <td>-9.700000</td>\n",
       "      <td>25.10000</td>\n",
       "      <td>3.701838</td>\n",
       "      <td>5.397448e-10</td>\n",
       "      <td>0.500000</td>\n",
       "      <td>0.174857</td>\n",
       "    </tr>\n",
       "    <tr>\n",
       "      <th>25%</th>\n",
       "      <td>1442.250000</td>\n",
       "      <td>504.392825</td>\n",
       "      <td>771.575000</td>\n",
       "      <td>-5.600000</td>\n",
       "      <td>29.57500</td>\n",
       "      <td>5.018775</td>\n",
       "      <td>4.449419e-02</td>\n",
       "      <td>1.500000</td>\n",
       "      <td>0.786612</td>\n",
       "    </tr>\n",
       "    <tr>\n",
       "      <th>50%</th>\n",
       "      <td>2728.500000</td>\n",
       "      <td>657.468975</td>\n",
       "      <td>1194.900000</td>\n",
       "      <td>-4.400000</td>\n",
       "      <td>30.90000</td>\n",
       "      <td>5.562078</td>\n",
       "      <td>1.661962e-01</td>\n",
       "      <td>2.900000</td>\n",
       "      <td>1.478622</td>\n",
       "    </tr>\n",
       "    <tr>\n",
       "      <th>75%</th>\n",
       "      <td>4133.000000</td>\n",
       "      <td>761.075752</td>\n",
       "      <td>1616.900000</td>\n",
       "      <td>-3.300000</td>\n",
       "      <td>32.20000</td>\n",
       "      <td>6.201437</td>\n",
       "      <td>3.077840e-01</td>\n",
       "      <td>4.700000</td>\n",
       "      <td>2.519811</td>\n",
       "    </tr>\n",
       "    <tr>\n",
       "      <th>max</th>\n",
       "      <td>5632.000000</td>\n",
       "      <td>1003.943700</td>\n",
       "      <td>2408.500000</td>\n",
       "      <td>-1.200000</td>\n",
       "      <td>37.30000</td>\n",
       "      <td>7.484683</td>\n",
       "      <td>9.954134e-01</td>\n",
       "      <td>15.000000</td>\n",
       "      <td>12.695224</td>\n",
       "    </tr>\n",
       "  </tbody>\n",
       "</table>\n",
       "</div>"
      ],
      "text/plain": [
       "          Field_ID    Elevation     Rainfall  Min_temperature_C  \\\n",
       "count  1000.000000  1000.000000  1000.000000        1000.000000   \n",
       "mean   2779.486000   628.136035  1197.734700          -4.504100   \n",
       "std    1595.068372   179.098546   497.794699           1.568117   \n",
       "min       1.000000    35.910797   110.100000          -9.700000   \n",
       "25%    1442.250000   504.392825   771.575000          -5.600000   \n",
       "50%    2728.500000   657.468975  1194.900000          -4.400000   \n",
       "75%    4133.000000   761.075752  1616.900000          -3.300000   \n",
       "max    5632.000000  1003.943700  2408.500000          -1.200000   \n",
       "\n",
       "       Max_temperature_C           pH  Pollution_level    Plot_size  \\\n",
       "count         1000.00000  1000.000000     1.000000e+03  1000.000000   \n",
       "mean            30.89460     5.603899     2.233740e-01     3.962400   \n",
       "std              1.92225     0.802154     2.288665e-01     3.459036   \n",
       "min             25.10000     3.701838     5.397448e-10     0.500000   \n",
       "25%             29.57500     5.018775     4.449419e-02     1.500000   \n",
       "50%             30.90000     5.562078     1.661962e-01     2.900000   \n",
       "75%             32.20000     6.201437     3.077840e-01     4.700000   \n",
       "max             37.30000     7.484683     9.954134e-01    15.000000   \n",
       "\n",
       "       Annual_yield  \n",
       "count   1000.000000  \n",
       "mean       2.101536  \n",
       "std        1.926694  \n",
       "min        0.174857  \n",
       "25%        0.786612  \n",
       "50%        1.478622  \n",
       "75%        2.519811  \n",
       "max       12.695224  "
      ]
     },
     "execution_count": 3,
     "metadata": {},
     "output_type": "execute_result"
    }
   ],
   "source": [
    "df.describe()"
   ]
  },
  {
   "cell_type": "code",
   "execution_count": 4,
   "id": "f13371dc",
   "metadata": {},
   "outputs": [
    {
     "name": "stdout",
     "output_type": "stream",
     "text": [
      "<class 'pandas.core.frame.DataFrame'>\n",
      "RangeIndex: 1000 entries, 0 to 999\n",
      "Data columns (total 10 columns):\n",
      " #   Column             Non-Null Count  Dtype  \n",
      "---  ------             --------------  -----  \n",
      " 0   Field_ID           1000 non-null   int64  \n",
      " 1   Elevation          1000 non-null   float64\n",
      " 2   Rainfall           1000 non-null   float64\n",
      " 3   Min_temperature_C  1000 non-null   float64\n",
      " 4   Max_temperature_C  1000 non-null   float64\n",
      " 5   pH                 1000 non-null   float64\n",
      " 6   Pollution_level    1000 non-null   float64\n",
      " 7   Plot_size          1000 non-null   float64\n",
      " 8   Annual_yield       1000 non-null   float64\n",
      " 9   Crop_type          1000 non-null   object \n",
      "dtypes: float64(8), int64(1), object(1)\n",
      "memory usage: 78.3+ KB\n"
     ]
    }
   ],
   "source": [
    "df.info()"
   ]
  },
  {
   "cell_type": "code",
   "execution_count": 5,
   "id": "162e59a4",
   "metadata": {},
   "outputs": [
    {
     "data": {
      "text/plain": [
       "(1000, 10)"
      ]
     },
     "execution_count": 5,
     "metadata": {},
     "output_type": "execute_result"
    }
   ],
   "source": [
    "df.shape"
   ]
  },
  {
   "cell_type": "code",
   "execution_count": 6,
   "id": "9ef81f16",
   "metadata": {},
   "outputs": [
    {
     "data": {
      "text/html": [
       "<div>\n",
       "<style scoped>\n",
       "    .dataframe tbody tr th:only-of-type {\n",
       "        vertical-align: middle;\n",
       "    }\n",
       "\n",
       "    .dataframe tbody tr th {\n",
       "        vertical-align: top;\n",
       "    }\n",
       "\n",
       "    .dataframe thead th {\n",
       "        text-align: right;\n",
       "    }\n",
       "</style>\n",
       "<table border=\"1\" class=\"dataframe\">\n",
       "  <thead>\n",
       "    <tr style=\"text-align: right;\">\n",
       "      <th></th>\n",
       "      <th>Field_ID</th>\n",
       "      <th>Elevation</th>\n",
       "      <th>Rainfall</th>\n",
       "      <th>Min_temperature_C</th>\n",
       "      <th>Max_temperature_C</th>\n",
       "      <th>pH</th>\n",
       "      <th>Pollution_level</th>\n",
       "      <th>Plot_size</th>\n",
       "      <th>Annual_yield</th>\n",
       "      <th>Crop_type</th>\n",
       "    </tr>\n",
       "  </thead>\n",
       "  <tbody>\n",
       "    <tr>\n",
       "      <th>0</th>\n",
       "      <td>1162</td>\n",
       "      <td>494.95615</td>\n",
       "      <td>1507.6</td>\n",
       "      <td>-5.4</td>\n",
       "      <td>31.0</td>\n",
       "      <td>6.859436</td>\n",
       "      <td>0.007034</td>\n",
       "      <td>3.6</td>\n",
       "      <td>1.617421</td>\n",
       "      <td>coffee</td>\n",
       "    </tr>\n",
       "    <tr>\n",
       "      <th>1</th>\n",
       "      <td>5108</td>\n",
       "      <td>663.73390</td>\n",
       "      <td>581.0</td>\n",
       "      <td>-4.7</td>\n",
       "      <td>30.9</td>\n",
       "      <td>5.603219</td>\n",
       "      <td>0.289643</td>\n",
       "      <td>4.2</td>\n",
       "      <td>2.532497</td>\n",
       "      <td>potato</td>\n",
       "    </tr>\n",
       "    <tr>\n",
       "      <th>2</th>\n",
       "      <td>3504</td>\n",
       "      <td>396.87990</td>\n",
       "      <td>1715.1</td>\n",
       "      <td>-6.1</td>\n",
       "      <td>31.7</td>\n",
       "      <td>5.774116</td>\n",
       "      <td>0.000409</td>\n",
       "      <td>2.6</td>\n",
       "      <td>1.262207</td>\n",
       "      <td>banana</td>\n",
       "    </tr>\n",
       "    <tr>\n",
       "      <th>3</th>\n",
       "      <td>5351</td>\n",
       "      <td>594.80370</td>\n",
       "      <td>1748.0</td>\n",
       "      <td>-4.3</td>\n",
       "      <td>33.6</td>\n",
       "      <td>6.477415</td>\n",
       "      <td>0.088777</td>\n",
       "      <td>7.9</td>\n",
       "      <td>4.351564</td>\n",
       "      <td>wheat</td>\n",
       "    </tr>\n",
       "    <tr>\n",
       "      <th>4</th>\n",
       "      <td>905</td>\n",
       "      <td>609.49800</td>\n",
       "      <td>1395.8</td>\n",
       "      <td>-4.5</td>\n",
       "      <td>31.3</td>\n",
       "      <td>5.419586</td>\n",
       "      <td>0.050023</td>\n",
       "      <td>10.8</td>\n",
       "      <td>5.034791</td>\n",
       "      <td>cassava</td>\n",
       "    </tr>\n",
       "  </tbody>\n",
       "</table>\n",
       "</div>"
      ],
      "text/plain": [
       "   Field_ID  Elevation  Rainfall  Min_temperature_C  Max_temperature_C  \\\n",
       "0      1162  494.95615    1507.6               -5.4               31.0   \n",
       "1      5108  663.73390     581.0               -4.7               30.9   \n",
       "2      3504  396.87990    1715.1               -6.1               31.7   \n",
       "3      5351  594.80370    1748.0               -4.3               33.6   \n",
       "4       905  609.49800    1395.8               -4.5               31.3   \n",
       "\n",
       "         pH  Pollution_level  Plot_size  Annual_yield Crop_type  \n",
       "0  6.859436         0.007034        3.6      1.617421    coffee  \n",
       "1  5.603219         0.289643        4.2      2.532497    potato  \n",
       "2  5.774116         0.000409        2.6      1.262207    banana  \n",
       "3  6.477415         0.088777        7.9      4.351564     wheat  \n",
       "4  5.419586         0.050023       10.8      5.034791   cassava  "
      ]
     },
     "execution_count": 6,
     "metadata": {},
     "output_type": "execute_result"
    }
   ],
   "source": [
    "df.head()"
   ]
  },
  {
   "cell_type": "markdown",
   "id": "11e83c42",
   "metadata": {},
   "source": [
    "# Using the data set to answer the follwing questions"
   ]
  },
  {
   "cell_type": "markdown",
   "id": "01a2f953",
   "metadata": {},
   "source": [
    "Q1: Write code to determine the number of unique crop types in the dataset?"
   ]
  },
  {
   "cell_type": "code",
   "execution_count": 7,
   "id": "41276d42",
   "metadata": {},
   "outputs": [
    {
     "data": {
      "text/plain": [
       "8"
      ]
     },
     "execution_count": 7,
     "metadata": {},
     "output_type": "execute_result"
    }
   ],
   "source": [
    "# getting unique count for crop type\n",
    "unique_crop = len(df.Crop_type.unique())\n",
    "unique_crop"
   ]
  },
  {
   "cell_type": "markdown",
   "id": "900afc57",
   "metadata": {},
   "source": [
    "Q2: Identify the maximum annual yield for \"wheat\" crop type in the dataset (rounded to 2 decimal places)."
   ]
  },
  {
   "cell_type": "code",
   "execution_count": 8,
   "id": "696b3460",
   "metadata": {},
   "outputs": [
    {
     "name": "stdout",
     "output_type": "stream",
     "text": [
      "Maximum annual yield for wheat crop type: 8.99\n"
     ]
    }
   ],
   "source": [
    "# Filter rows where crop_type is \"wheat\"\n",
    "wheat_df = df[df['Crop_type'] == 'wheat']\n",
    "\n",
    "# Find the maximum annual yield for wheat\n",
    "max_yield = wheat_df['Annual_yield'].max()\n",
    "\n",
    "# Round the maximum yield to 2 decimal places\n",
    "max_yield_rounded = round(max_yield, 2)\n",
    "\n",
    "print(\"Maximum annual yield for wheat crop type:\", max_yield_rounded)\n"
   ]
  },
  {
   "cell_type": "markdown",
   "id": "c20d1534",
   "metadata": {},
   "source": [
    "Q3: Find the total rainfall for crop types where the average pollution level is above 0.2"
   ]
  },
  {
   "cell_type": "code",
   "execution_count": 9,
   "id": "e10da3e3",
   "metadata": {},
   "outputs": [
    {
     "name": "stdout",
     "output_type": "stream",
     "text": [
      "Total rainfall for crop types where average pollution level is above 0.2: 941959.7\n"
     ]
    }
   ],
   "source": [
    "# Calculate average pollution level for each crop type\n",
    "avg_pollution = df.groupby('Crop_type')['Pollution_level'].mean()\n",
    "\n",
    "# Filter crop types where average pollution level is above 0.2\n",
    "polluted_crop_types = avg_pollution[avg_pollution > 0.2].index.tolist()\n",
    "\n",
    "# Filter rows for the polluted crop types\n",
    "polluted_df = df[df['Crop_type'].isin(polluted_crop_types)]\n",
    "\n",
    "# Calculate total rainfall for the filtered crop types\n",
    "total_rainfall = polluted_df['Rainfall'].sum()\n",
    "\n",
    "print(\"Total rainfall for crop types where average pollution level is above 0.2:\", total_rainfall)"
   ]
  },
  {
   "cell_type": "markdown",
   "id": "40c50915",
   "metadata": {},
   "source": [
    "Q4: Write a function to calculate the temperature range (Max_temperature_C - Min_temperature_C) for each farmer's field. Then, call the function with the following `Field_ID`: `1458`, `1895`, and `5443`. What are the results of these 3 calls?"
   ]
  },
  {
   "cell_type": "code",
   "execution_count": 10,
   "id": "a68b910e",
   "metadata": {},
   "outputs": [
    {
     "name": "stdout",
     "output_type": "stream",
     "text": [
      "Temperature range for Field_ID 1458: 40.7\n",
      "Temperature range for Field_ID 1895: 35.7\n",
      "Temperature range for Field_ID 5443: 33.4\n"
     ]
    }
   ],
   "source": [
    "def calculate_temperature_range(df, field_id):\n",
    "    \"\"\"\n",
    "    Calculate the temperature range (Max_temperature_C - Min_temperature_C) for a given farmer's field.\n",
    "\n",
    "    Parameters:\n",
    "        df (DataFrame): The DataFrame containing temperature data with columns 'Field_ID', 'Max_temperature_C', \n",
    "                       and 'Min_temperature_C'.\n",
    "        field_id (int): The ID of the farmer's field for which the temperature range is to be calculated.\n",
    "\n",
    "    Returns:\n",
    "        float: The temperature range for the specified field ID.\n",
    "    \"\"\"\n",
    "    # Filter rows for the specified field ID\n",
    "    field_df = df[df['Field_ID'] == field_id]\n",
    "    \n",
    "    # Calculate temperature range\n",
    "    temperature_range = field_df['Max_temperature_C'].max() - field_df['Min_temperature_C'].min()\n",
    "    \n",
    "    return temperature_range\n",
    "\n",
    "# Assuming df is your DataFrame containing temperature data with columns 'Field_ID', 'Max_temperature_C', and 'Min_temperature_C'\n",
    "\n",
    "# Call the function for Field_ID: 1458\n",
    "result_1458 = calculate_temperature_range(df, 1458)\n",
    "\n",
    "# Call the function for Field_ID: 1895\n",
    "result_1895 = calculate_temperature_range(df, 1895)\n",
    "\n",
    "# Call the function for Field_ID: 5443\n",
    "result_5443 = calculate_temperature_range(df, 5443)\n",
    "\n",
    "print(\"Temperature range for Field_ID 1458:\", result_1458)\n",
    "print(\"Temperature range for Field_ID 1895:\", result_1895)\n",
    "print(\"Temperature range for Field_ID 5443:\", result_5443)\n"
   ]
  },
  {
   "cell_type": "markdown",
   "id": "16d58028",
   "metadata": {},
   "source": [
    "Q5: What does the following code achieve?\n",
    "\n",
    "a = data['Crop_type'].unique()\n",
    "\n",
    "b = float('inf')\n",
    "\n",
    "c = ''\n",
    "\n",
    "for crop in a:\n",
    "\n",
    "    d = data[data['Crop_type'] == crop]['Min_temperature_C'].mean()\n",
    "\n",
    "    if d < b:\n",
    "\n",
    "        b = d\n",
    "\n",
    "        c = crop\n",
    "\n",
    "print(c)"
   ]
  },
  {
   "cell_type": "markdown",
   "id": "c6d7a806",
   "metadata": {},
   "source": [
    "Answer: Identifies the crop type with the lowest average minimum temperature."
   ]
  },
  {
   "cell_type": "markdown",
   "id": "48454451",
   "metadata": {},
   "source": [
    "Q6: Write code to calculate the total plot size for plots where the pH is less than 5.5."
   ]
  },
  {
   "cell_type": "code",
   "execution_count": 11,
   "id": "a1c60054",
   "metadata": {},
   "outputs": [
    {
     "name": "stdout",
     "output_type": "stream",
     "text": [
      "Total plot size for plots with pH less than 5.5: 1731.8999999999999\n"
     ]
    }
   ],
   "source": [
    "\n",
    "# Filter rows where pH is less than 5.5\n",
    "filtered_df = df[df['pH'] < 5.5]\n",
    "\n",
    "# Calculate the total plot size for filtered plots\n",
    "total_plot_size = filtered_df['Plot_size'].sum()\n",
    "\n",
    "print(\"Total plot size for plots with pH less than 5.5:\", total_plot_size)\n"
   ]
  },
  {
   "cell_type": "markdown",
   "id": "3c08ee49",
   "metadata": {},
   "source": [
    "Q7: Using Pandas, create a dataframe that includes entries with a 'Min_temperature_C’< -5 and a 'Max_temperature_C' > 30. How many rows are in the filtered dataset?\n",
    "\n"
   ]
  },
  {
   "cell_type": "code",
   "execution_count": 12,
   "id": "a597fbbb",
   "metadata": {},
   "outputs": [
    {
     "name": "stdout",
     "output_type": "stream",
     "text": [
      "Number of rows in the filtered dataset: 319\n"
     ]
    }
   ],
   "source": [
    "# Filter the DataFrame based on conditions\n",
    "filtered_df1 = df[(df['Min_temperature_C'] < -5) & (df['Max_temperature_C'] > 30)]\n",
    "\n",
    "# Count the number of rows in the filtered DataFrame\n",
    "num_rows = filtered_df1.shape[0]\n",
    "\n",
    "print(\"Number of rows in the filtered dataset:\", num_rows)\n"
   ]
  },
  {
   "cell_type": "markdown",
   "id": "4cfd12a6",
   "metadata": {},
   "source": [
    "Q8: Using Numpy, calculate the standard deviation of the 'Rainfall' for plots where the 'Plot_size' is larger than the median plot size of the dataset (round to 2 decimal places).\n",
    "\n"
   ]
  },
  {
   "cell_type": "code",
   "execution_count": 13,
   "id": "852a38e3",
   "metadata": {},
   "outputs": [
    {
     "name": "stdout",
     "output_type": "stream",
     "text": [
      "Standard deviation of Rainfall for plots with plot size larger than the median: 469.62\n"
     ]
    }
   ],
   "source": [
    "# Calculate the median plot size\n",
    "median_plot_size = np.median(df['Plot_size'])\n",
    "\n",
    "# Find the indices where plot size is larger than the median plot size\n",
    "indices = np.where(df['Plot_size'] > median_plot_size)[0]\n",
    "\n",
    "# Filter rainfall data for plots with larger plot size\n",
    "rainfall_filtered = df['Rainfall'][indices]\n",
    "\n",
    "# Calculate the standard deviation of rainfall for plots with larger plot size\n",
    "std_dev_rainfall = np.std(rainfall_filtered)\n",
    "\n",
    "# Round the result to 2 decimal places\n",
    "std_dev_rainfall_rounded = round(std_dev_rainfall, 2)\n",
    "\n",
    "print(\"Standard deviation of Rainfall for plots with plot size larger than the median:\", std_dev_rainfall_rounded)\n"
   ]
  },
  {
   "cell_type": "markdown",
   "id": "05bb76cf",
   "metadata": {},
   "source": [
    "Q9: If you concatenate the first three digits of the most common ‘Max_temperature_C’ with the last three letters of the least common 'Crop_type', what string do you get?\n",
    "Note: Use the first mode if there are multiple modes"
   ]
  },
  {
   "cell_type": "code",
   "execution_count": 14,
   "id": "bb53bb9d",
   "metadata": {},
   "outputs": [
    {
     "name": "stdout",
     "output_type": "stream",
     "text": [
      "Concatenated string: 30.ice\n"
     ]
    }
   ],
   "source": [
    "# Find the most common 'Max_temperature_C'\n",
    "most_common_max_temp = df['Max_temperature_C'].mode().iloc[0]\n",
    "\n",
    "# Extract the first three digits of the most common 'Max_temperature_C'\n",
    "first_three_digits = str(most_common_max_temp)[:3]\n",
    "\n",
    "# Find the least common 'Crop_type'\n",
    "least_common_crop_type = df['Crop_type'].value_counts().idxmin()\n",
    "\n",
    "# Extract the last three letters of the least common 'Crop_type'\n",
    "last_three_letters = least_common_crop_type[-3:]\n",
    "\n",
    "# Concatenate the extracted parts\n",
    "result_string = first_three_digits + last_three_letters\n",
    "\n",
    "print(\"Concatenated string:\", result_string)\n"
   ]
  },
  {
   "cell_type": "markdown",
   "id": "a46372b1",
   "metadata": {},
   "source": [
    "Write Python code to create a violin plot visualising the distribution of 'Annual_yield' across different 'Elevation' ranges. Use the provided elevation range categories (Low: < 300m, Medium: 300m - 600m, High: > 600m) to categorise the data before plotting.  Examine the violin plot displaying the distribution of 'Annual Yield' across three elevation categories (Low, Medium, High). What insight does the violin plot provide regarding the relationship between elevation ranges and annual yield distribution?\n"
   ]
  },
  {
   "cell_type": "code",
   "execution_count": 15,
   "id": "7b575a54",
   "metadata": {},
   "outputs": [
    {
     "data": {
      "image/png": "[encoded data removed]",
      "text/plain": [
       "<Figure size 1000x600 with 1 Axes>"
      ]
     },
     "metadata": {},
     "output_type": "display_data"
    }
   ],
   "source": [
    "import numpy as np\n",
    "import seaborn as sns\n",
    "import matplotlib.pyplot as plt\n",
    "\n",
    "\n",
    "# Define conditions and corresponding categories\n",
    "conditions = [\n",
    "    (df['Elevation'] < 300),\n",
    "    (df['Elevation'] >= 300) & (df['Elevation'] <= 600),\n",
    "    (df['Elevation'] > 600)\n",
    "]\n",
    "categories = ['Low', 'Medium', 'High']\n",
    "\n",
    "# Apply categorization using np.select()\n",
    "df['Elevation_Category'] = np.select(conditions, categories, default='Unknown')\n",
    "\n",
    "# Create a violin plot\n",
    "plt.figure(figsize=(10, 6))\n",
    "sns.violinplot(data=df, x='Elevation_Category', y='Annual_yield')\n",
    "plt.title('Distribution of Annual Yield Across Elevation Ranges')\n",
    "plt.xlabel('Elevation Range')\n",
    "plt.ylabel('Annual Yield')\n",
    "plt.show()\n"
   ]
  },
  {
   "cell_type": "markdown",
   "id": "6383197b",
   "metadata": {},
   "source": [
    "Q11: Assuming each 'Crop_type' contributes an integer value equal to its length (e.g., 'wheat' contributes 5), write a recursive function to sum the integer values for each unique crop type in the dataset. What is the sum?"
   ]
  },
  {
   "cell_type": "code",
   "execution_count": 16,
   "id": "d7795b7c",
   "metadata": {},
   "outputs": [
    {
     "name": "stdout",
     "output_type": "stream",
     "text": [
      "Sum of integer values for each unique crop type: 42\n"
     ]
    }
   ],
   "source": [
    "def sum_crop_type_lengths(Crop_type):\n",
    "    \"\"\"\n",
    "    Recursively calculates the sum of integer values for each unique crop type in the dataset.\n",
    "\n",
    "    Parameters:\n",
    "        crop_types (list): A list containing crop type strings.\n",
    "\n",
    "    Returns:\n",
    "        int: The sum of integer values for each unique crop type.\n",
    "    \"\"\"\n",
    "    # Base case: If the list is empty, return 0\n",
    "    if not Crop_type:\n",
    "        return 0\n",
    "    \n",
    "    # Get the first crop type\n",
    "    Crop_types = Crop_type[0]\n",
    "    \n",
    "    # Calculate the length of the crop type and add it to the sum\n",
    "    crop_type_length = len(Crop_types)\n",
    "    \n",
    "    # Recursive call: Sum the length of the current crop type with the sum of the rest of the crop types\n",
    "    return crop_type_length + sum_crop_type_lengths(Crop_type[1:])\n",
    "\n",
    "# List of all crop types in the dataset\n",
    "crop_types = ['coffee', 'potato', 'banana', 'wheat', 'cassava', 'maize', 'tea', 'rice']\n",
    "\n",
    "# Call the function to calculate the sum of integer values for each unique crop type\n",
    "sum_of_lengths = sum_crop_type_lengths(crop_types)\n",
    "\n",
    "print(\"Sum of integer values for each unique crop type:\", sum_of_lengths)\n"
   ]
  },
  {
   "cell_type": "markdown",
   "id": "3f6186ab",
   "metadata": {},
   "source": [
    "Q12: Write Python code to perform a t-test comparing the average 'Annual_yield' between 'coffee' and 'banana' crop types using scipy.stats. What is the p-value, rounded to three decimal places? "
   ]
  },
  {
   "cell_type": "code",
   "execution_count": 17,
   "id": "465db40e",
   "metadata": {},
   "outputs": [
    {
     "name": "stdout",
     "output_type": "stream",
     "text": [
      "The p-value is: 0.598\n"
     ]
    }
   ],
   "source": [
    "# Filter data for 'coffee' and 'banana' crop types\n",
    "coffee_yield = df[df['Crop_type'] == 'coffee']['Annual_yield']\n",
    "banana_yield = df[df['Crop_type'] == 'banana']['Annual_yield']\n",
    "\n",
    "# Perform t-test\n",
    "t_statistic, p_value = stats.ttest_ind(coffee_yield, banana_yield, equal_var=False)\n",
    "\n",
    "# Print the p-value rounded to three decimal places\n",
    "print(\"The p-value is:\", round(p_value, 3))\n"
   ]
  },
  {
   "cell_type": "markdown",
   "id": "3770946c",
   "metadata": {},
   "source": [
    "# END OF EXERCISE"
   ]
  }
 ],
 "metadata": {
  "kernelspec": {
   "display_name": "Python 3 (ipykernel)",
   "language": "python",
   "name": "python3"
  },
  "language_info": {
   "codemirror_mode": {
    "name": "ipython",
    "version": 3
   },
   "file_extension": ".py",
   "mimetype": "text/x-python",
   "name": "python",
   "nbconvert_exporter": "python",
   "pygments_lexer": "ipython3",
   "version": "3.11.5"
  }
 },
 "nbformat": 4,
 "nbformat_minor": 5
}
